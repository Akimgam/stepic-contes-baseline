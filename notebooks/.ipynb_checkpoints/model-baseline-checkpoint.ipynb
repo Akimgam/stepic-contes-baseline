{
 "cells": [
  {
   "cell_type": "code",
   "execution_count": 11,
   "metadata": {},
   "outputs": [
    {
     "name": "stdout",
     "output_type": "stream",
     "text": [
      "The autoreload extension is already loaded. To reload it, use:\n",
      "  %reload_ext autoreload\n"
     ]
    }
   ],
   "source": [
    "%load_ext autoreload\n",
    "%autoreload 2\n",
    "\n",
    "import sys\n",
    "import os\n",
    "\n",
    "import pandas as pd\n",
    "import numpy as np\n",
    "\n",
    "sys.path.append(os.path.join(sys.path[0], '../'))\n",
    "\n",
    "from libs import data_helpers\n",
    "from libs import config"
   ]
  },
  {
   "cell_type": "code",
   "execution_count": 5,
   "metadata": {},
   "outputs": [],
   "source": [
    "events = pd.read_csv(f\"{config.DATA_DIR}/event_data_train.zip\")\n",
    "submissions = pd.read_csv(f\"{config.DATA_DIR}/submissions_data_train.zip\")"
   ]
  },
  {
   "cell_type": "code",
   "execution_count": 23,
   "metadata": {},
   "outputs": [],
   "source": [
    "interactions = data_helpers.create_interaction(events, submissions)\n",
    "users_data = interactions[['user_id']].drop_duplicates()\n",
    "\n"
   ]
  },
  {
   "cell_type": "code",
   "execution_count": 34,
   "metadata": {},
   "outputs": [],
   "source": [
    "passed_steps = interactions\\\n",
    "    .query(\"action == 'correct'\")\\\n",
    "    .groupby('user_id', as_index=False)"
   ]
  },
  {
   "cell_type": "code",
   "execution_count": 32,
   "metadata": {},
   "outputs": [
    {
     "name": "stdout",
     "output_type": "stream",
     "text": [
      "(2,         step_id   timestamp   action  user_id date  day\n",
      "506854    32929  1514383420  correct        2  NaT  NaN\n",
      "506853    32812  1514383485  correct        2  NaT  NaN)\n"
     ]
    }
   ],
   "source": [
    "for i in passed_steps:\n",
    "    print(i)\n",
    "    break"
   ]
  }
 ],
 "metadata": {
  "kernelspec": {
   "display_name": "Python 3",
   "language": "python",
   "name": "python3"
  },
  "language_info": {
   "codemirror_mode": {
    "name": "ipython",
    "version": 3
   },
   "file_extension": ".py",
   "mimetype": "text/x-python",
   "name": "python",
   "nbconvert_exporter": "python",
   "pygments_lexer": "ipython3",
   "version": "3.7.4"
  }
 },
 "nbformat": 4,
 "nbformat_minor": 2
}
